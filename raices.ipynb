{
  "nbformat": 4,
  "nbformat_minor": 0,
  "metadata": {
    "colab": {
      "provenance": [],
      "authorship_tag": "ABX9TyO1yYmuN3cPDgPuWSyuPhLT",
      "include_colab_link": true
    },
    "kernelspec": {
      "name": "python3",
      "display_name": "Python 3"
    },
    "language_info": {
      "name": "python"
    }
  },
  "cells": [
    {
      "cell_type": "markdown",
      "metadata": {
        "id": "view-in-github",
        "colab_type": "text"
      },
      "source": [
        "<a href=\"https://colab.research.google.com/github/GloriaZuniga164/MCAIV_25-1/blob/main/raices.ipynb\" target=\"_parent\"><img src=\"https://colab.research.google.com/assets/colab-badge.svg\" alt=\"Open In Colab\"/></a>"
      ]
    },
    {
      "cell_type": "markdown",
      "source": [
        "###Actividad\n",
        "\n",
        "Ver con cuantas iteraciones y con cuantas cifras se aproxima correctamente para:\n",
        "\n",
        "Raíz de 11 con aproximación 3\n",
        "\n",
        "Raíz de 2 con aproximación 1\n",
        "\n",
        "Raíz de 231\n",
        "\n",
        "Poniendo el parámetro de formato del número a 49 cifras decimales."
      ],
      "metadata": {
        "id": "J4rSVQpUOoks"
      }
    },
    {
      "cell_type": "code",
      "source": [
        "serieRaiz = []\n",
        "\n",
        "n = 11\n",
        "x = 3\n",
        "\n",
        "for i in range(3):\n",
        "    x= (1/2)*(x+(n/x))\n",
        "    serieRaiz.append(x)\n",
        "\n",
        "print(\"La raíz aproximada de {0} es {1:.49} \".format(n,x))\n"
      ],
      "metadata": {
        "colab": {
          "base_uri": "https://localhost:8080/"
        },
        "id": "mYPBEnkfL_jJ",
        "outputId": "5c43fd06-a027-448c-eb86-3b22eee65918"
      },
      "execution_count": null,
      "outputs": [
        {
          "output_type": "stream",
          "name": "stdout",
          "text": [
            "La raíz aproximada de 11 es 3.316624790619765228427695546997711062431335449219 \n"
          ]
        }
      ]
    },
    {
      "cell_type": "code",
      "source": [
        "serieRaiz = []\n",
        "\n",
        "n = 2\n",
        "x = 1\n",
        "\n",
        "for i in range(10):\n",
        "    x= (1/2)*(x+(n/x))\n",
        "    serieRaiz.append(x)\n",
        "\n",
        "print(\"La raíz aproximada de {0} es {1:.49} \".format(n,x))"
      ],
      "metadata": {
        "colab": {
          "base_uri": "https://localhost:8080/"
        },
        "id": "wvY7OUQrNyuT",
        "outputId": "1b507273-b834-47ea-a3f6-20289c7684e3"
      },
      "execution_count": null,
      "outputs": [
        {
          "output_type": "stream",
          "name": "stdout",
          "text": [
            "La raíz aproximada de 2 es 1.414213562373094923430016933707520365715026855469 \n"
          ]
        }
      ]
    },
    {
      "cell_type": "code",
      "source": [
        "serieRaiz = []\n",
        "\n",
        "n = 231\n",
        "x = 14\n",
        "\n",
        "for i in range(12):\n",
        "    x= (1/2)*(x+(n/x))\n",
        "    serieRaiz.append(x)\n",
        "\n",
        "print(\"La raíz aproximada de {0} es {1:.49} \".format(n,x))"
      ],
      "metadata": {
        "colab": {
          "base_uri": "https://localhost:8080/"
        },
        "id": "xDdyEy1_OGC6",
        "outputId": "91ae4b8f-e434-46e8-d9bf-0d1ae6351bb7"
      },
      "execution_count": null,
      "outputs": [
        {
          "output_type": "stream",
          "name": "stdout",
          "text": [
            "La raíz aproximada de 231 es 15.19868415357066382398443238344043493270874023438 \n"
          ]
        }
      ]
    }
  ]
}